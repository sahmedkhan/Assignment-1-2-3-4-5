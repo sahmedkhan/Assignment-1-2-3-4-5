{
 "cells": [
  {
   "cell_type": "markdown",
   "id": "0fdddac1",
   "metadata": {},
   "source": [
    "# 5-Class "
   ]
  },
  {
   "cell_type": "markdown",
   "id": "d837c90f",
   "metadata": {},
   "source": [
    "Premative Data Types\n",
    "list data types"
   ]
  },
  {
   "cell_type": "code",
   "execution_count": 2,
   "id": "aeaea9cf",
   "metadata": {},
   "outputs": [
    {
     "name": "stdout",
     "output_type": "stream",
     "text": [
      "Hammad\n",
      "Visha\n",
      "sadat\n",
      "M.A.Rasheed\n"
     ]
    }
   ],
   "source": [
    "s1_name = \"Hammad\"\n",
    "s2_name = \"Visha\"\n",
    "s3_name = \"sadat\"\n",
    "s4_name = \"M.A.Rasheed\"\n",
    "\n",
    "print(s1_name)\n",
    "print(s2_name)\n",
    "print(s3_name)\n",
    "print(s4_name)"
   ]
  },
  {
   "cell_type": "markdown",
   "id": "6317c76d",
   "metadata": {},
   "source": [
    "hatrogemous - store any datatype\n",
    "\n",
    "# list data type\n",
    "* hetrogenous data type\n",
    "* dynamic length\n",
    "* ndynamic memeory managment\n",
    "\n",
    "syntax:\n",
    "\n",
    "\"\"\"[element1, element2, element3,.......]\"\"\""
   ]
  },
  {
   "cell_type": "code",
   "execution_count": 3,
   "id": "a0297fd1",
   "metadata": {},
   "outputs": [
    {
     "data": {
      "text/plain": [
       "['Hammad', 'Visha', 'sadat', 'M.A.Rasheed']"
      ]
     },
     "execution_count": 3,
     "metadata": {},
     "output_type": "execute_result"
    }
   ],
   "source": [
    "names = [\"Hammad\",\"Visha\",\"sadat\",\"M.A.Rasheed\"]\n",
    "names"
   ]
  },
  {
   "cell_type": "code",
   "execution_count": null,
   "id": "f3e23039",
   "metadata": {},
   "outputs": [],
   "source": [
    "# ->        0        1       2        3\n",
    "names = [\"Hammad\",\"Visha\",\"sadat\",\"M.A.Rasheed\"]\n",
    "# <-        3        2        3        4\n",
    "names"
   ]
  },
  {
   "cell_type": "markdown",
   "id": "63994a24",
   "metadata": {},
   "source": [
    "# Extract values from iterative datatype with index position\n",
    "Syntax: list_variable[indexnumber]"
   ]
  },
  {
   "cell_type": "code",
   "execution_count": 4,
   "id": "3faf1b69",
   "metadata": {},
   "outputs": [
    {
     "name": "stdout",
     "output_type": "stream",
     "text": [
      "Please insert names with ',',seprated:shafaat, imran, kamran, irfan, hoda, naeem, iqbal\n"
     ]
    },
    {
     "data": {
      "text/plain": [
       "['shafaat', ' imran', ' kamran', ' irfan', ' hoda', ' naeem', ' iqbal']"
      ]
     },
     "execution_count": 4,
     "metadata": {},
     "output_type": "execute_result"
    }
   ],
   "source": [
    "names1 = input(\"Please insert names with ',',seprated:\")\n",
    "\n",
    "names1.split(\",\")"
   ]
  },
  {
   "cell_type": "code",
   "execution_count": 7,
   "id": "440ece2e",
   "metadata": {},
   "outputs": [
    {
     "name": "stdout",
     "output_type": "stream",
     "text": [
      "Visha\n",
      "sadat\n"
     ]
    }
   ],
   "source": [
    "# ->        0        1       2        3\n",
    "names = [\"Hammad\",\"Visha\",\"sadat\",\"M.A.Rasheed\"]\n",
    "# <-        -3       -2      -3        -4\n",
    "\n",
    "print(names[1])\n",
    "print(names[-2])"
   ]
  },
  {
   "cell_type": "markdown",
   "id": "def12541",
   "metadata": {},
   "source": [
    "# Slicing on list\n",
    "Syntax :   \"\"\"LIst_variable[start:end:setp]\"\"\"\n",
    "* start = this number will be included\n",
    "* end = excluded end-1\n",
    "* step = sequence/gap"
   ]
  },
  {
   "cell_type": "markdown",
   "id": "898afd51",
   "metadata": {},
   "source": [
    "# Class - 6"
   ]
  },
  {
   "cell_type": "code",
   "execution_count": 4,
   "id": "3abe9e61",
   "metadata": {},
   "outputs": [
    {
     "ename": "IndentationError",
     "evalue": "expected an indented block after 'while' statement on line 4 (765760306.py, line 5)",
     "output_type": "error",
     "traceback": [
      "\u001b[1;36m  Cell \u001b[1;32mIn[4], line 5\u001b[1;36m\u001b[0m\n\u001b[1;33m    print(character(counter))\u001b[0m\n\u001b[1;37m    ^\u001b[0m\n\u001b[1;31mIndentationError\u001b[0m\u001b[1;31m:\u001b[0m expected an indented block after 'while' statement on line 4\n"
     ]
    }
   ],
   "source": [
    "characters = list(\"abckefghijklmnopquristuvwxyz\")\n",
    "print(characters)\n",
    "conunter=0\n",
    "while(counter <len(characters)):\n",
    "print(character(counter))\n",
    "counter=2"
   ]
  },
  {
   "cell_type": "code",
   "execution_count": 17,
   "id": "8f6bb4dc",
   "metadata": {},
   "outputs": [
    {
     "name": "stdout",
     "output_type": "stream",
     "text": [
      "[1, 2, 3, 4, 5, 6, 7, 8, 9, 10]\n",
      "[2, 3, 4, 5, 6, 7, 8, 9, 10]\n",
      "[4, 5, 6, 7, 8, 9, 10]\n",
      "[4, 7, 10]\n",
      "[10, 9, 8, 7, 6, 5, 4, 3, 2, 1]\n",
      "[10, 8, 6, 4, 2]\n"
     ]
    }
   ],
   "source": [
    "a = list(range(1,11))\n",
    "\n",
    "print(a)\n",
    "print(a[1::1])\n",
    "print(a[3::1])\n",
    "print(a[3:10:3])\n",
    "print(a[::-1])\n",
    "print(a[-1:-10:-2])"
   ]
  },
  {
   "cell_type": "code",
   "execution_count": 11,
   "id": "512f7f21",
   "metadata": {},
   "outputs": [
    {
     "name": "stdout",
     "output_type": "stream",
     "text": [
      "[1, 2, 3, 4, 5, 6, 7, 8, 9, 10]\n"
     ]
    }
   ],
   "source": [
    "b= range(1,11)\n",
    "print(a)"
   ]
  },
  {
   "cell_type": "code",
   "execution_count": 18,
   "id": "cfc64e08",
   "metadata": {},
   "outputs": [
    {
     "name": "stdout",
     "output_type": "stream",
     "text": [
      "[1, 2, 3, 4, 5, 6, 7, 8, 9, 10]\n",
      "[2, 3, 4, 5, 6, 7, 8, 9, 10]\n",
      "[4, 5, 6, 7, 8, 9, 10]\n",
      "[]\n"
     ]
    }
   ],
   "source": [
    "a = list(range(1,11))\n",
    "\n",
    "print(a)\n",
    "print(a[1::1])\n",
    "print(a[3::1])\n",
    "print(a[-1:-10:2])"
   ]
  },
  {
   "cell_type": "code",
   "execution_count": 23,
   "id": "249ca5ef",
   "metadata": {},
   "outputs": [
    {
     "data": {
      "text/plain": [
       "[[1, 2, 3, 4, 5, 6, 7, 8, 9, 10],\n",
       " [11, 12, 13, 14, 15, 16, 17, 18, 19, 20],\n",
       " [21, 22, 23, 24, 25, 26, 27, 28, 29, 30],\n",
       " [31, 32, 33, 34, 35, 36, 37, 38, 39, 40],\n",
       " [41, 42, 43, 44, 45, 46, 47, 48, 49, 50],\n",
       " [51, 52, 53, 54, 55, 56, 57, 58, 59, 60],\n",
       " [61, 62, 63, 64, 65, 66, 67, 68, 69, 70],\n",
       " [71, 72, 73, 74, 75, 76, 77, 78, 79, 80],\n",
       " [81, 82, 83, 84, 85, 86, 87, 88, 89, 90],\n",
       " [91, 92, 93, 94, 95, 96, 97, 98, 99, 100]]"
      ]
     },
     "execution_count": 23,
     "metadata": {},
     "output_type": "execute_result"
    }
   ],
   "source": [
    "import numpy as np\n",
    "a=np.arange(1,101).reshape(10,10).tolist()\n",
    "a"
   ]
  },
  {
   "cell_type": "code",
   "execution_count": 24,
   "id": "358bdbd7",
   "metadata": {},
   "outputs": [
    {
     "data": {
      "text/plain": [
       "[[1, 2, 3, 4, 5, 6, 7, 8, 9, 10],\n",
       " [11, 12, 13, 14, 15, 16, 17, 18, 19, 20],\n",
       " [21, 22, 23, 24, 25, 26, 27, 28, 29, 30],\n",
       " [31, 32, 33, 34, 35, 36, 37, 38, 39, 40],\n",
       " [41, 42, 43, 44, 45, 46, 47, 48, 49, 50],\n",
       " [51, 52, 53, 54, 55, 56, 57, 58, 59, 60],\n",
       " [61, 62, 63, 64, 65, 66, 67, 68, 69, 70],\n",
       " [71, 72, 73, 74, 75, 76, 77, 78, 79, 80],\n",
       " [81, 82, 83, 84, 85, 86, 87, 88, 89, 90],\n",
       " [91, 92, 93, 94, 95, 96, 97, 98, 99, 100]]"
      ]
     },
     "metadata": {},
     "output_type": "display_data"
    }
   ],
   "source": [
    "display(a)"
   ]
  },
  {
   "cell_type": "code",
   "execution_count": 25,
   "id": "3950d162",
   "metadata": {},
   "outputs": [
    {
     "data": {
      "text/plain": [
       "[[11, 12, 13, 14, 15, 16, 17, 18, 19, 20],\n",
       " [21, 22, 23, 24, 25, 26, 27, 28, 29, 30],\n",
       " [31, 32, 33, 34, 35, 36, 37, 38, 39, 40],\n",
       " [41, 42, 43, 44, 45, 46, 47, 48, 49, 50]]"
      ]
     },
     "execution_count": 25,
     "metadata": {},
     "output_type": "execute_result"
    }
   ],
   "source": [
    "a[1:5:] for 1 i a"
   ]
  },
  {
   "cell_type": "code",
   "execution_count": null,
   "id": "d463f47b",
   "metadata": {},
   "outputs": [],
   "source": [
    "a[1:5:]"
   ]
  },
  {
   "cell_type": "markdown",
   "id": "2f7dad30",
   "metadata": {},
   "source": [
    "# End Extra Code"
   ]
  },
  {
   "cell_type": "code",
   "execution_count": 26,
   "id": "901db094",
   "metadata": {},
   "outputs": [
    {
     "name": "stdout",
     "output_type": "stream",
     "text": [
      "[1, 2, 3, 4, 5, 6, 7, 8, 9, 10]\n"
     ]
    }
   ],
   "source": [
    "a = list(range(1,11))\n",
    "\n",
    "print(a)"
   ]
  },
  {
   "cell_type": "code",
   "execution_count": 27,
   "id": "ade8e262",
   "metadata": {},
   "outputs": [
    {
     "name": "stdout",
     "output_type": "stream",
     "text": [
      "a\n",
      "b\n",
      "c\n",
      "d\n",
      "e\n",
      "f\n"
     ]
    }
   ],
   "source": [
    "for i in \"abcdef\":\n",
    "    print(i)"
   ]
  },
  {
   "cell_type": "code",
   "execution_count": 29,
   "id": "ad7993e9",
   "metadata": {},
   "outputs": [
    {
     "name": "stdout",
     "output_type": "stream",
     "text": [
      "imran\n",
      "aijaz\n"
     ]
    }
   ],
   "source": [
    "for i in['imran','aijaz']:\n",
    "    print(i)"
   ]
  },
  {
   "cell_type": "code",
   "execution_count": 35,
   "id": "6358e3df",
   "metadata": {},
   "outputs": [
    {
     "data": {
      "text/plain": [
       "['i', 'm', 'r', 'a', 'n', 'z']"
      ]
     },
     "execution_count": 35,
     "metadata": {},
     "output_type": "execute_result"
    }
   ],
   "source": [
    "[i for i in 'imranz']\n"
   ]
  },
  {
   "cell_type": "code",
   "execution_count": 36,
   "id": "4b69b439",
   "metadata": {
    "scrolled": true
   },
   "outputs": [
    {
     "data": {
      "text/plain": [
       "['i', 'm', 'r', 'a', 'n', 'z', 'k', 'a', 'm', 'r', 'a', 'n']"
      ]
     },
     "execution_count": 36,
     "metadata": {},
     "output_type": "execute_result"
    }
   ],
   "source": [
    "[i for i in 'imranzkamran']\n"
   ]
  },
  {
   "cell_type": "code",
   "execution_count": 40,
   "id": "ac304547",
   "metadata": {},
   "outputs": [
    {
     "name": "stdout",
     "output_type": "stream",
     "text": [
      "[]\n",
      "['shafaat']\n",
      "['shafaat', 'saleem']\n"
     ]
    }
   ],
   "source": [
    "name = []\n",
    "print(name)\n",
    "name.append('shafaat')\n",
    "print(name)\n",
    "name.append('saleem')\n",
    "print(name)"
   ]
  },
  {
   "cell_type": "code",
   "execution_count": null,
   "id": "0b2f1a18",
   "metadata": {},
   "outputs": [],
   "source": []
  }
 ],
 "metadata": {
  "kernelspec": {
   "display_name": "Python 3 (ipykernel)",
   "language": "python",
   "name": "python3"
  },
  "language_info": {
   "codemirror_mode": {
    "name": "ipython",
    "version": 3
   },
   "file_extension": ".py",
   "mimetype": "text/x-python",
   "name": "python",
   "nbconvert_exporter": "python",
   "pygments_lexer": "ipython3",
   "version": "3.11.3"
  }
 },
 "nbformat": 4,
 "nbformat_minor": 5
}

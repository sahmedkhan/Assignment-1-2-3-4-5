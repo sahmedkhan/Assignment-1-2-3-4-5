{
 "cells": [
  {
   "cell_type": "code",
   "execution_count": 3,
   "id": "320bd3a8",
   "metadata": {},
   "outputs": [
    {
     "name": "stdout",
     "output_type": "stream",
     "text": [
      "Pakistan Zindabad\n",
      "Pakistan Zindabad\n",
      "<class 'str'>\n"
     ]
    }
   ],
   "source": [
    "data = \"Pakistan Zindabad\"\n",
    "\n",
    "print(data)\n",
    "print(data)\n",
    "print(type(data))"
   ]
  },
  {
   "cell_type": "code",
   "execution_count": 4,
   "id": "ead8f6ec",
   "metadata": {},
   "outputs": [
    {
     "name": "stdout",
     "output_type": "stream",
     "text": [
      "Pakistan Line 1Pakistan Line 2Pakistan Line 2Pakistan Line 2\n",
      "<class 'str'>\n"
     ]
    }
   ],
   "source": [
    "abc = \"Pakistan Line 1\"\\\n",
    "\"Pakistan Line 2\"\\\n",
    "\"Pakistan Line 2\"\\\n",
    "\"Pakistan Line 2\"\n",
    "\n",
    "print(abc)\n",
    "print(type(abc))"
   ]
  },
  {
   "cell_type": "code",
   "execution_count": 8,
   "id": "9408d3b1",
   "metadata": {},
   "outputs": [
    {
     "data": {
      "text/plain": [
       "'\\nPakistan Line 1\\nPakistan Line 2\\nPakistan Line 3\\n'"
      ]
     },
     "execution_count": 8,
     "metadata": {},
     "output_type": "execute_result"
    }
   ],
   "source": [
    "abc = \"\"\"\n",
    "Pakistan Line 1\n",
    "Pakistan Line 2\n",
    "Pakistan Line 3\n",
    "\"\"\"\n",
    "abc\n",
    "#print(abc)"
   ]
  },
  {
   "cell_type": "code",
   "execution_count": 9,
   "id": "114d5c39",
   "metadata": {},
   "outputs": [
    {
     "name": "stdout",
     "output_type": "stream",
     "text": [
      "\n",
      "Pakistan Line 1\n",
      "Pakistan Line 2\n",
      "Pakistan Line 3\n",
      "\n"
     ]
    }
   ],
   "source": [
    "abc = \"\"\"\n",
    "Pakistan Line 1\n",
    "Pakistan Line 2\n",
    "Pakistan Line 3\n",
    "\"\"\"\n",
    "\n",
    "print(abc)"
   ]
  },
  {
   "cell_type": "markdown",
   "id": "89784b72",
   "metadata": {},
   "source": [
    "# concatination and formating"
   ]
  },
  {
   "cell_type": "code",
   "execution_count": 10,
   "id": "b71566ea",
   "metadata": {},
   "outputs": [
    {
     "name": "stdout",
     "output_type": "stream",
     "text": [
      "Enter No. 15\n",
      "Enter No. 25\n",
      "<class 'str'> <class 'str'>\n",
      "55\n"
     ]
    }
   ],
   "source": [
    "a = input(\"Enter No. 1\")\n",
    "b = input(\"Enter No. 2\")\n",
    "\n",
    "print(type(a), type(b))\n",
    "print (a + b)"
   ]
  },
  {
   "cell_type": "code",
   "execution_count": 11,
   "id": "0a98f9e0",
   "metadata": {},
   "outputs": [
    {
     "name": "stdout",
     "output_type": "stream",
     "text": [
      "Enter No. 16\n",
      "Enter No. 27\n",
      "<class 'int'> <class 'int'>\n",
      "13\n"
     ]
    }
   ],
   "source": [
    "a = input(\"Enter No. 1\")\n",
    "b = input(\"Enter No. 2\")\n",
    "\n",
    "a = int(a)\n",
    "b = int(b)\n",
    "print(type(a), type(b))\n",
    "print (a + b)"
   ]
  },
  {
   "cell_type": "code",
   "execution_count": 12,
   "id": "6985d4ee",
   "metadata": {},
   "outputs": [
    {
     "name": "stdout",
     "output_type": "stream",
     "text": [
      "Enter No. 14\n",
      "Enter No. 25\n",
      "<class 'float'> <class 'float'>\n",
      "9.0\n"
     ]
    }
   ],
   "source": [
    "a = input(\"Enter No. 1\")\n",
    "b = input(\"Enter No. 2\")\n",
    "\n",
    "a = float(a)\n",
    "b = float(b)\n",
    "print(type(a), type(b))\n",
    "print (a + b)"
   ]
  },
  {
   "cell_type": "code",
   "execution_count": 13,
   "id": "062676fe",
   "metadata": {},
   "outputs": [
    {
     "name": "stdout",
     "output_type": "stream",
     "text": [
      "Enter No. 14\n",
      "Enter No. 21\n",
      "<class 'int'> <class 'int'>\n",
      "5\n"
     ]
    }
   ],
   "source": [
    "a = int(input(\"Enter No. 1\"))\n",
    "b = int(input(\"Enter No. 2\"))\n",
    "\n",
    "print(type(a), type(b))\n",
    "print (a + b)"
   ]
  },
  {
   "cell_type": "code",
   "execution_count": 18,
   "id": "02586cbc",
   "metadata": {},
   "outputs": [
    {
     "name": "stdout",
     "output_type": "stream",
     "text": [
      "NED UNIVERSITY \n",
      "Student Roll No.202\n",
      "Student Name: Shafaat Ahmed Khan\n",
      "Father Name: Himayat Ahmed Khan\n",
      "Contact No. : 03442893351\n"
     ]
    }
   ],
   "source": [
    "roll_no = 202\n",
    "name = \"Shafaat Ahmed Khan\"\n",
    "fname = \"Himayat Ahmed Khan\"\n",
    "contact_no = \"03442893351\"\n",
    "\n",
    "card = \"NED UNIVERSITY \\nStudent Roll No.\"+str(roll_no)+\\\n",
    "\"\\nStudent Name: \"+name+\"\\nFather Name: \"+fname\\\n",
    "+\"\\nContact No. : \"+contact_no\n",
    "\n",
    "print(card)"
   ]
  },
  {
   "cell_type": "code",
   "execution_count": 22,
   "id": "ec15086b",
   "metadata": {},
   "outputs": [
    {
     "name": "stdout",
     "output_type": "stream",
     "text": [
      "\n",
      "NED UNIVERSITY\n",
      "roll_no = \t202\n",
      "name = \t\tShafaat Ahmed Khan\n",
      "fname = \tHimayat Ahmed Khan\n",
      "contact_no = \t03442893351\n",
      "\n"
     ]
    }
   ],
   "source": [
    "card = \"\"\"\n",
    "NED UNIVERSITY\n",
    "roll_no = \\t202\n",
    "name = \\t\\tShafaat Ahmed Khan\n",
    "fname = \\tHimayat Ahmed Khan\n",
    "contact_no = \\t03442893351\n",
    "\"\"\"\n",
    "\n",
    "print(card)\n",
    "\n"
   ]
  },
  {
   "cell_type": "code",
   "execution_count": 24,
   "id": "c50d4cda",
   "metadata": {},
   "outputs": [
    {
     "name": "stdout",
     "output_type": "stream",
     "text": [
      "\n",
      "NED UNIVERSITY\n",
      "Student Roll_no = \t202\n",
      "Student Name = \t\tShafaat Ahmed Khan\n",
      "Father's Name = \tHimayat Ahmed Khan\n",
      "Contact No = \t\t03442893351.format(roll_no)\n",
      "\n"
     ]
    }
   ],
   "source": [
    "card = \"\"\"\n",
    "NED UNIVERSITY\n",
    "Student Roll_no = \\t202\n",
    "Student Name = \\t\\tShafaat Ahmed Khan\n",
    "Father's Name = \\tHimayat Ahmed Khan\n",
    "Contact No = \\t\\t03442893351.format(roll_no)\n",
    "\"\"\"\n",
    "\n",
    "print(card)"
   ]
  },
  {
   "cell_type": "code",
   "execution_count": 30,
   "id": "277b664a",
   "metadata": {},
   "outputs": [
    {
     "name": "stdout",
     "output_type": "stream",
     "text": [
      "\n",
      "NED UNIVERSITY\n",
      "Student Roll_no = \t201\n",
      "Student Name = \t\tShafaat Ahmed Khan\n",
      "Father's Name = \tHimayat Ahmed Khan\n",
      "Contact No = \t\t03442893351.\n"
     ]
    }
   ],
   "source": [
    "roll_no = 201\n",
    "name = \"Shafaat Ahmed Khan\"\n",
    "fname = \"Himayat Ahmed Khan\"\n",
    "contact_no = \"03442893351\"\n",
    "\n",
    "card = \"\"\"\n",
    "NED UNIVERSITY\n",
    "Student Roll_no = \\t{}\n",
    "Student Name = \\t\\t{}\n",
    "Father's Name = \\t{}\n",
    "Contact No = \\t\\t{}.\"\"\".format(roll_no,name,fname,contact_no)\n",
    "\n",
    "print(card)"
   ]
  },
  {
   "cell_type": "code",
   "execution_count": 40,
   "id": "e24d6e31",
   "metadata": {},
   "outputs": [
    {
     "name": "stdout",
     "output_type": "stream",
     "text": [
      "\n",
      "NED UNIVERSITY\n",
      "Student Roll_no = 201\n",
      "Student Name = Shafaat Ahmed Khan\n",
      "Father's Name = Himayat Ahmed Khan\n",
      "Contact No = 03442893351.\n"
     ]
    }
   ],
   "source": [
    "roll_no = 201\n",
    "name = \"Shafaat Ahmed Khan\"\n",
    "fname = \"Himayat Ahmed Khan\"\n",
    "contact_no = \"03442893351\"\n",
    "\n",
    "card = \"\"\"\n",
    "NED UNIVERSITY\n",
    "Student Roll_no = {}\n",
    "Student Name = {}\n",
    "Father's Name = {}\n",
    "Contact No = {}.\"\"\".format(roll_no,name,fname,contact_no)\n",
    "#                                 0      1     2       3\n",
    "print(card)"
   ]
  },
  {
   "cell_type": "code",
   "execution_count": 2,
   "id": "52260b5e",
   "metadata": {},
   "outputs": [
    {
     "name": "stdout",
     "output_type": "stream",
     "text": [
      " NED UNIVERSITY\n",
      "Student Roll_no = input(201)\n",
      "Student Name = Shafaat Ahmed Khan\n",
      "Father's Name = Himayat Ahmed Khan\n",
      "Contact No = 03442893351.\n"
     ]
    }
   ],
   "source": [
    "roll_no = 201\n",
    "name = \"Shafaat Ahmed Khan\"\n",
    "fname = \"Himayat Ahmed Khan\"\n",
    "contact_no = \"03442893351\"\n",
    "\n",
    "card = f\"\"\" NED UNIVERSITY\n",
    "Student Roll_no = input({roll_no})\n",
    "Student Name = {name}\n",
    "Father's Name = {fname}\n",
    "Contact No = {contact_no}.\"\"\"\n",
    "print(card)"
   ]
  },
  {
   "cell_type": "code",
   "execution_count": 53,
   "id": "d25369bd",
   "metadata": {},
   "outputs": [
    {
     "name": "stdout",
     "output_type": "stream",
     "text": [
      "450000\n",
      "I boutht 3 Laptop at 150000, each for a total of $450000\n",
      "\n"
     ]
    }
   ],
   "source": [
    "item = \"Laptop\"\n",
    "price = 150000\n",
    "quantity = 3\n",
    "\n",
    "total_cost = price * quantity\n",
    "\n",
    "\n",
    "string = \"\"\"I boutht {} {} at {}, each for a total of ${}\n",
    "\"\"\".format(quantity,item,price,total_cost)\n",
    "\n",
    "print(total_cost)\n",
    "print(string)"
   ]
  },
  {
   "cell_type": "code",
   "execution_count": 56,
   "id": "30579af0",
   "metadata": {},
   "outputs": [
    {
     "name": "stdout",
     "output_type": "stream",
     "text": [
      " The temperature in Karachi is 30'c'\n"
     ]
    }
   ],
   "source": [
    "city = \"Karachi\"\n",
    "temperature = 30\n",
    "\n",
    "string = f\"\"\" The temperature in {city} is {temperature}'c'\"\"\"\n",
    "\n",
    "print(string)"
   ]
  },
  {
   "cell_type": "code",
   "execution_count": null,
   "id": "3f0ca43f",
   "metadata": {},
   "outputs": [],
   "source": [
    "%s  string\n",
    "%d  number"
   ]
  },
  {
   "cell_type": "code",
   "execution_count": 4,
   "id": "8233fd4a",
   "metadata": {},
   "outputs": [
    {
     "data": {
      "text/plain": [
       "'Student Name Shafaat Ahmed \\n Roll No. 2322'"
      ]
     },
     "execution_count": 4,
     "metadata": {},
     "output_type": "execute_result"
    }
   ],
   "source": [
    "roll_no=2322\n",
    "name = \"Shafaat Ahmed\"\n",
    "\"Student Name %s \\n Roll No. %d\"  % (name,roll_no)"
   ]
  },
  {
   "cell_type": "code",
   "execution_count": 14,
   "id": "f899a5ee",
   "metadata": {},
   "outputs": [
    {
     "name": "stdout",
     "output_type": "stream",
     "text": [
      "43\n",
      "My name is  Shafaat Ahmed Khan. I am  43 years old.\n"
     ]
    }
   ],
   "source": [
    "first_name = \"Shafaat Ahmed\"\n",
    "last_name = \"Khan\"\n",
    "birth_year = 1980\n",
    "\n",
    "age = 2023 - birth_year\n",
    "print(age)\n",
    "\n",
    "string = \"My name is  %s %s. I am  %d years old.\" %(first_name,last_name,age)\n",
    "print(string)"
   ]
  },
  {
   "cell_type": "code",
   "execution_count": 24,
   "id": "7a2de7a2",
   "metadata": {},
   "outputs": [
    {
     "name": "stdout",
     "output_type": "stream",
     "text": [
      "112500.0\n",
      "    Hire Home Services\n",
      "Product Name\t = \tDC Inverter Hire\n",
      "Discount Price\t = \t10\n",
      "Orignal Price\t = \t125000\n",
      "Discounted Price = \t112500.0\n",
      "\n"
     ]
    }
   ],
   "source": [
    "product_name = \"DC Inverter Hire\"\n",
    "discount = 10\n",
    "orignal_price = 125000\n",
    "\n",
    "discount_price = orignal_price*(1 - discount/100)\n",
    "\n",
    "string = f\"\"\"Hire Home Services\n",
    "Product Name\\t = \\t{product_name}\n",
    "Discount Price\\t = \\t{discount}\n",
    "Orignal Price\\t = \\t{orignal_price}\n",
    "Discounted Price = \\t{discount_price}\n",
    "\"\"\"\n",
    "print(string)"
   ]
  },
  {
   "cell_type": "code",
   "execution_count": null,
   "id": "1613f656",
   "metadata": {},
   "outputs": [],
   "source": []
  }
 ],
 "metadata": {
  "kernelspec": {
   "display_name": "Python 3 (ipykernel)",
   "language": "python",
   "name": "python3"
  },
  "language_info": {
   "codemirror_mode": {
    "name": "ipython",
    "version": 3
   },
   "file_extension": ".py",
   "mimetype": "text/x-python",
   "name": "python",
   "nbconvert_exporter": "python",
   "pygments_lexer": "ipython3",
   "version": "3.11.3"
  }
 },
 "nbformat": 4,
 "nbformat_minor": 5
}

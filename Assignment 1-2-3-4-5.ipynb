{
 "cells": [
  {
   "cell_type": "markdown",
   "id": "b7fcef82",
   "metadata": {},
   "source": [
    "# String Concatination and Formating - Assignment 1"
   ]
  },
  {
   "cell_type": "code",
   "execution_count": 10,
   "id": "63888e54",
   "metadata": {},
   "outputs": [
    {
     "name": "stdout",
     "output_type": "stream",
     "text": [
      "My name is Shafaat Ahmed Khan, I am 40. I live in Pakistan\n"
     ]
    }
   ],
   "source": [
    "name = \"Shafaat Ahmed Khan\"\n",
    "age = 40\n",
    "country = \"Pakistan\"\n",
    "\n",
    "biodata = \"My name is \" + name + \", I am \" + str(age) + \". I live in \" + country\n",
    "\n",
    "print(biodata)"
   ]
  },
  {
   "cell_type": "markdown",
   "id": "a5e01d34",
   "metadata": {},
   "source": [
    "# String Formating using format() - Assignment-2"
   ]
  },
  {
   "cell_type": "code",
   "execution_count": 2,
   "id": "0c8eefed",
   "metadata": {},
   "outputs": [
    {
     "name": "stdout",
     "output_type": "stream",
     "text": [
      "475000\n",
      " I bought 5 Laptop's at 95000 each for a total of $475000\n"
     ]
    }
   ],
   "source": [
    "item = \"Laptop\"\n",
    "price = 95000\n",
    "quantity = 5\n",
    "\n",
    "total_cost = price * quantity\n",
    "\n",
    "string = \"\"\" I bought {} {}'s at {} each for a total of ${}\"\"\".format(quantity,item,price,total_cost)\n",
    "\n",
    "print(total_cost)\n",
    "print(string)\n",
    "\n"
   ]
  },
  {
   "cell_type": "markdown",
   "id": "1772ddd5",
   "metadata": {},
   "source": [
    "# String interpolation using f - Assignment-3"
   ]
  },
  {
   "cell_type": "code",
   "execution_count": 3,
   "id": "190db674",
   "metadata": {},
   "outputs": [
    {
     "name": "stdout",
     "output_type": "stream",
     "text": [
      " The temperature in Karachi is 31'c' \n"
     ]
    }
   ],
   "source": [
    "city = \"Karachi\"\n",
    "temperature = 31\n",
    "\n",
    "string = f\"\"\" The temperature in {city} is {temperature}'c' \"\"\"\n",
    "\n",
    "print(string)"
   ]
  },
  {
   "cell_type": "markdown",
   "id": "13d13774",
   "metadata": {},
   "source": [
    "# String Formating using %() - Assignment-4"
   ]
  },
  {
   "cell_type": "code",
   "execution_count": 1,
   "id": "93aae031",
   "metadata": {},
   "outputs": [
    {
     "name": "stdout",
     "output_type": "stream",
     "text": [
      "23\n",
      "My name is Shafaat Ahmed Khan Khan. I am 23 years old\n"
     ]
    }
   ],
   "source": [
    "first_name = \"Shafaat Ahmed Khan\"\n",
    "last_name = \"Khan\"\n",
    "birth_year = 2000\n",
    "current_year = 2023\n",
    "\n",
    "age = current_year - birth_year\n",
    "\n",
    "string = \"My name is %s %s. I am %d years old\" %(first_name,last_name,age)\n",
    "\n",
    "print(age)\n",
    "print(string)"
   ]
  },
  {
   "cell_type": "markdown",
   "id": "0e2ed69d",
   "metadata": {},
   "source": [
    "# Combining formating methods - Assignment-5"
   ]
  },
  {
   "cell_type": "code",
   "execution_count": 19,
   "id": "86f2c7b5",
   "metadata": {},
   "outputs": [
    {
     "name": "stdout",
     "output_type": "stream",
     "text": [
      " HOME APPLIANCE\n",
      "Product Name \t = \tHire DC Invertor\n",
      "Discount Rate \t = \t14\n",
      "Orignal Price \t = \t150000\n",
      "Discounted Price = \t129000.0\n",
      "\n"
     ]
    }
   ],
   "source": [
    "product_name = \"Hire DC Invertor\"\n",
    "discount_price = 14\n",
    "orignal_price = 150000\n",
    "\n",
    "discounted_price = orignal_price*(1 - discount_price/100)\n",
    "\n",
    "string = f\"\"\" HOME APPLIANCE\n",
    "Product Name \\t = \\t{product_name}\n",
    "Discount Rate \\t = \\t{discount_price}\n",
    "Orignal Price \\t = \\t{orignal_price}\n",
    "Discounted Price = \\t{discounted_price}\n",
    "\"\"\"\n",
    "\n",
    "print(string)"
   ]
  },
  {
   "cell_type": "code",
   "execution_count": null,
   "id": "26058561",
   "metadata": {},
   "outputs": [],
   "source": []
  }
 ],
 "metadata": {
  "kernelspec": {
   "display_name": "Python 3 (ipykernel)",
   "language": "python",
   "name": "python3"
  },
  "language_info": {
   "codemirror_mode": {
    "name": "ipython",
    "version": 3
   },
   "file_extension": ".py",
   "mimetype": "text/x-python",
   "name": "python",
   "nbconvert_exporter": "python",
   "pygments_lexer": "ipython3",
   "version": "3.11.3"
  }
 },
 "nbformat": 4,
 "nbformat_minor": 5
}
